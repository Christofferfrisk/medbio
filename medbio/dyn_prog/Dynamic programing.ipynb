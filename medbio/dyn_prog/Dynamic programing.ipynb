{
 "cells": [
  {
   "cell_type": "markdown",
   "metadata": {},
   "source": [
    "Dynamic programming"
   ]
  },
  {
   "cell_type": "code",
   "execution_count": 8,
   "metadata": {},
   "outputs": [],
   "source": [
    "import numpy as np\n",
    "\n",
    "aas = {'A':71,\n",
    "'R': 156,\n",
    "'N': 114,\n",
    "'D': 115,\n",
    "'C': 103,\n",
    "'E': 129,\n",
    "'Q': 128,\n",
    "'G': 57,\n",
    "'H': 137,\n",
    "'I': 113,\n",
    "'L': 113,\n",
    "'K': 128,\n",
    "'M': 131,\n",
    "'F': 147,\n",
    "'P': 97,\n",
    "'S': 87,\n",
    "'T': 101,\n",
    "'W': 186,\n",
    "'Y': 163,\n",
    "'V': 99}\n",
    "\n",
    "dWeights = dict()\n",
    "dWeights[0] = 1\n",
    "dPep = dict()\n",
    "dPep[0] = ['']\n",
    "\n",
    "#Generate dict with all peptide weights\n",
    "for i in range(1, 3001):\n",
    "    found_matches = 0\n",
    "    for a in aas:\n",
    "        weight = aas[a]\n",
    "        prev = i - weight\n",
    "        if dWeights.get(prev) is not None:\n",
    "            found_matches += dWeights.get(prev)\n",
    "\n",
    "    dWeights[i] = found_matches\n"
   ]
  },
  {
   "cell_type": "code",
   "execution_count": 13,
   "metadata": {},
   "outputs": [
    {
     "name": "stdout",
     "output_type": "stream",
     "text": [
      "10\n"
     ]
    }
   ],
   "source": [
    "\n",
    "print(dWeights[200])"
   ]
  },
  {
   "cell_type": "markdown",
   "metadata": {},
   "source": [
    "Needleman wunch-  algorithm for global alignments\n",
    "\n",
    "Goal: Align two sequences a1....an and b1...bm\n",
    "Score of match/missmatch between amino acids a,b are given by scorematrix d(a,b)\n",
    "Score of in/del given as d(-,b)=d(a,-)=g\n",
    "\n",
    "NW: Score of an optimal alignment is given by the recursion\n",
    "\n",
    "S(0,j) = j*g\n",
    "S(i,0) = i*g\n",
    "S(i,j) = max(S(i-1,j-1) + d(a(i),b(j)), S(i-1,j) + g, S(i,j-1) + g)\n",
    "\n",
    "Align GAC and ACG\n",
    "use d(a,b) {1 if a=b, -1 if a or b is '-' or a != b)\n",
    " \n",
    "   -   A  C  G\n",
    " -  0 -1 -2 -3  \n",
    " G -1            -1\n",
    " A -2\n",
    " C -3"
   ]
  },
  {
   "cell_type": "code",
   "execution_count": 4,
   "metadata": {
    "collapsed": true
   },
   "outputs": [],
   "source": [
    "PAM250 = {\n",
    "'A': {'A': 2,  'C': -2, 'D':  0, 'E': 0, 'F': -3, 'G':  1, 'H': -1, 'I': -1, 'K': -1, 'L': -2, 'M': -1, 'N':  0, 'P':  1, 'Q':  0, 'R': -2, 'S':  1, 'T':  1, 'V':  0, 'W': -6, 'Y': -3},\n",
    "'C': {'A': -2, 'C': 12, 'D': -5, 'E':-5, 'F': -4, 'G': -3, 'H': -3, 'I': -2, 'K': -5, 'L': -6, 'M': -5, 'N': -4, 'P': -3, 'Q': -5, 'R': -4, 'S':  0, 'T': -2, 'V': -2, 'W': -8, 'Y':  0},\n",
    "'D': {'A': 0,  'C': -5, 'D':  4, 'E': 3, 'F': -6, 'G':  1, 'H':  1, 'I': -2, 'K':  0, 'L': -4, 'M': -3, 'N':  2, 'P': -1, 'Q':  2, 'R': -1, 'S':  0, 'T':  0, 'V': -2, 'W': -7, 'Y': -4},\n",
    "'E': {'A': 0,  'C': -5, 'D':  3, 'E': 4, 'F': -5, 'G':  0, 'H':  1, 'I': -2, 'K':  0, 'L': -3, 'M': -2, 'N':  1, 'P': -1, 'Q':  2, 'R': -1, 'S':  0, 'T':  0, 'V': -2, 'W': -7, 'Y': -4},\n",
    "'F': {'A': -3, 'C': -4, 'D': -6, 'E':-5, 'F':  9, 'G': -5, 'H': -2, 'I':  1, 'K': -5, 'L':  2, 'M':  0, 'N': -3, 'P': -5, 'Q': -5, 'R': -4, 'S': -3, 'T': -3, 'V': -1, 'W':  0, 'Y':  7},\n",
    "'G': {'A': 1,  'C': -3, 'D':  1, 'E': 0, 'F': -5, 'G':  5, 'H': -2, 'I': -3, 'K': -2, 'L': -4, 'M': -3, 'N':  0, 'P':  0, 'Q': -1, 'R': -3, 'S':  1, 'T':  0, 'V': -1, 'W': -7, 'Y': -5},\n",
    "'H': {'A': -1, 'C': -3, 'D':  1, 'E': 1, 'F': -2, 'G': -2, 'H':  6, 'I': -2, 'K':  0, 'L': -2, 'M': -2, 'N':  2, 'P':  0, 'Q':  3, 'R':  2, 'S': -1, 'T': -1, 'V': -2, 'W': -3, 'Y':  0},\n",
    "'I': {'A': -1, 'C': -2, 'D': -2, 'E':-2, 'F':  1, 'G': -3, 'H': -2, 'I':  5, 'K': -2, 'L':  2, 'M':  2, 'N': -2, 'P': -2, 'Q': -2, 'R': -2, 'S': -1, 'T':  0, 'V':  4, 'W': -5, 'Y': -1},\n",
    "'K': {'A': -1, 'C': -5, 'D':  0, 'E': 0, 'F': -5, 'G': -2, 'H':  0, 'I': -2, 'K':  5, 'L': -3, 'M':  0, 'N':  1, 'P': -1, 'Q':  1, 'R':  3, 'S':  0, 'T':  0, 'V': -2, 'W': -3, 'Y': -4},\n",
    "'L': {'A': -2, 'C': -6, 'D': -4, 'E':-3, 'F':  2, 'G': -4, 'H': -2, 'I':  2, 'K': -3, 'L':  6, 'M':  4, 'N': -3, 'P': -3, 'Q': -2, 'R': -3, 'S': -3, 'T': -2, 'V':  2, 'W': -2, 'Y': -1},\n",
    "'M': {'A': -1, 'C': -5, 'D': -3, 'E':-2, 'F':  0, 'G': -3, 'H': -2, 'I':  2, 'K':  0, 'L':  4, 'M':  6, 'N': -2, 'P': -2, 'Q': -1, 'R':  0, 'S': -2, 'T': -1, 'V':  2, 'W': -4, 'Y': -2},\n",
    "'N': {'A': 0,  'C': -4, 'D':  2, 'E': 1, 'F': -3, 'G':  0, 'H':  2, 'I': -2, 'K':  1, 'L': -3, 'M': -2, 'N':  2, 'P':  0, 'Q':  1, 'R':  0, 'S':  1, 'T':  0, 'V': -2, 'W': -4, 'Y': -2},\n",
    "'P': {'A': 1,  'C': -3, 'D': -1, 'E':-1, 'F': -5, 'G':  0, 'H':  0, 'I': -2, 'K': -1, 'L': -3, 'M': -2, 'N':  0, 'P':  6, 'Q':  0, 'R':  0, 'S':  1, 'T':  0, 'V': -1, 'W': -6, 'Y': -5},\n",
    "'Q': {'A': 0,  'C': -5, 'D':  2, 'E': 2, 'F': -5, 'G': -1, 'H':  3, 'I': -2, 'K':  1, 'L': -2, 'M': -1, 'N':  1, 'P':  0, 'Q':  4, 'R':  1, 'S': -1, 'T': -1, 'V': -2, 'W': -5, 'Y': -4},\n",
    "'R': {'A': -2, 'C': -4, 'D': -1, 'E':-1, 'F': -4, 'G': -3, 'H':  2, 'I': -2, 'K':  3, 'L': -3, 'M':  0, 'N':  0, 'P':  0, 'Q':  1, 'R':  6, 'S':  0, 'T': -1, 'V': -2, 'W':  2, 'Y': -4},\n",
    "'S': {'A': 1,  'C':  0, 'D':  0, 'E': 0, 'F': -3, 'G':  1, 'H': -1, 'I': -1, 'K':  0, 'L': -3, 'M': -2, 'N':  1, 'P':  1, 'Q': -1, 'R':  0, 'S':  2, 'T':  1, 'V': -1, 'W': -2, 'Y': -3},\n",
    "'T': {'A': 1,  'C': -2, 'D':  0, 'E': 0, 'F': -3, 'G':  0, 'H': -1, 'I':  0, 'K':  0, 'L': -2, 'M': -1, 'N':  0, 'P':  0, 'Q': -1, 'R': -1, 'S':  1, 'T':  3, 'V':  0, 'W': -5, 'Y': -3},\n",
    "'V': {'A': 0,  'C': -2, 'D': -2, 'E':-2, 'F': -1, 'G': -1, 'H': -2, 'I':  4, 'K': -2, 'L':  2, 'M':  2, 'N': -2, 'P': -1, 'Q': -2, 'R': -2, 'S': -1, 'T':  0, 'V':  4, 'W': -6, 'Y': -2},\n",
    "'W': {'A': -6, 'C': -8, 'D': -7, 'E':-7, 'F':  0, 'G': -7, 'H': -3, 'I': -5, 'K': -3, 'L': -2, 'M': -4, 'N': -4, 'P': -6, 'Q': -5, 'R':  2, 'S': -2, 'T': -5, 'V': -6, 'W': 17, 'Y':  0},\n",
    "'Y': {'A': -3, 'C':  0, 'D': -4, 'E':-4, 'F':  7, 'G': -5, 'H':  0, 'I': -1, 'K': -4, 'L': -1, 'M': -2, 'N': -2, 'P': -5, 'Q': -4, 'R': -4, 'S': -3, 'T': -3, 'V': -2, 'W':  0, 'Y': 10}}\n"
   ]
  },
  {
   "cell_type": "code",
   "execution_count": 59,
   "metadata": {},
   "outputs": [
    {
     "data": {
      "text/plain": [
       "2"
      ]
     },
     "execution_count": 59,
     "metadata": {},
     "output_type": "execute_result"
    }
   ],
   "source": [
    "PAM250['A']['A']"
   ]
  },
  {
   "cell_type": "code",
   "execution_count": 65,
   "metadata": {
    "scrolled": true
   },
   "outputs": [
    {
     "name": "stdout",
     "output_type": "stream",
     "text": [
      "[[ 0.  0.  0.  0.  0.  0.  0.  0.]\n",
      " [ 0.  1.  1.  1.  1.  1.  1.  0.]\n",
      " [ 0.  0.  1.  1.  1.  1.  1.  1.]\n",
      " [ 0. -1.  0.  1.  1.  1.  1.  1.]\n",
      " [ 0. -1. -1.  0.  0.  1.  1.  1.]\n",
      " [ 0. -1. -1.  0.  1.  0.  1.  1.]\n",
      " [ 0. -1. -1. -1.  0.  1.  0.  1.]\n",
      " [ 0. -1. -1. -1. -1.  0. -1.  0.]]\n",
      "AN-ANAS\n",
      "ANNANAS\n"
     ]
    }
   ],
   "source": [
    "import numpy as np\n",
    "\n",
    "def nw(seq1, seq2):\n",
    "    iSeq1, iSeq2 = len(seq1), len(seq2)\n",
    "    mat = np.zeros((iSeq1+1, iSeq2+1))\n",
    "    steps = np.zeros((iSeq1+1, iSeq2+1))\n",
    "    g = -1\n",
    "\n",
    "    for i in range(0, iSeq1+1):\n",
    "        mat[i, 0] = i * g\n",
    "    \n",
    "    for j in range(0, iSeq2+1):\n",
    "        mat[0,j] = j * g\n",
    "    \n",
    "    #Generate matrix\n",
    "    for i in range(1, iSeq1+1):\n",
    "        for j in range(1, iSeq2+1):\n",
    "            #3 cases: insert, delete, match\n",
    "            insert = mat[i][j-1]+g\n",
    "            delete = mat[i-1][j]+g\n",
    "            match = int(mat[i-1][j-1]+ PAM250[seq1[i-1]][seq2[j-1]])\n",
    "            score = max(insert, delete, match)\n",
    "            \n",
    "            mat[i][j] = score\n",
    "            \n",
    "            if score == insert:\n",
    "                steps[i,j] = 1\n",
    "            elif score == delete:\n",
    "                steps[i,j] = -1\n",
    "            elif score == match:\n",
    "                steps[i,j] = 0\n",
    "\n",
    "    #print mat\n",
    "    print steps\n",
    "\n",
    "    #Traverse matrix from bottom right\n",
    "    iPos, jPos = iSeq1, iSeq2\n",
    "    a1 = ''\n",
    "    a2 = ''    \n",
    "    while iPos > 0 and jPos > 0:   \n",
    "        if steps[iPos][jPos] == 0:\n",
    "            a1 += seq1[iPos-1]\n",
    "            a2 += seq2[jPos-1]\n",
    "            iPos -= 1\n",
    "            jPos -= 1\n",
    "            \n",
    "        elif steps[iPos][jPos] == -1:\n",
    "            a1 += seq1[iPos-1]\n",
    "            a2 += '-'\n",
    "            iPos -= 1\n",
    "            \n",
    "        elif steps[iPos][jPos] == 1:\n",
    "            a1 += '-'\n",
    "            a2 += seq2[jPos-1]\n",
    "            jPos -= 1\n",
    "    \n",
    "    print a1[::-1]\n",
    "    print a2[::-1]\n",
    "\n",
    "    \n",
    "nw('CANANAS','ANNANAS')\n"
   ]
  },
  {
   "cell_type": "code",
   "execution_count": null,
   "metadata": {
    "collapsed": true
   },
   "outputs": [],
   "source": []
  }
 ],
 "metadata": {
  "kernelspec": {
   "display_name": "Python 2",
   "language": "python",
   "name": "python2"
  },
  "language_info": {
   "codemirror_mode": {
    "name": "ipython",
    "version": 2
   },
   "file_extension": ".py",
   "mimetype": "text/x-python",
   "name": "python",
   "nbconvert_exporter": "python",
   "pygments_lexer": "ipython2",
   "version": "2.7.12"
  }
 },
 "nbformat": 4,
 "nbformat_minor": 2
}
